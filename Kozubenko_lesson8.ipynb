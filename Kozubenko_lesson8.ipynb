{
  "nbformat": 4,
  "nbformat_minor": 0,
  "metadata": {
    "colab": {
      "provenance": [],
      "collapsed_sections": []
    },
    "kernelspec": {
      "name": "python3",
      "display_name": "Python 3"
    },
    "language_info": {
      "name": "python"
    }
  },
  "cells": [
    {
      "cell_type": "markdown",
      "source": [
        "Козубенко\n",
        "\n",
        "ДЗ к уроку 8\n",
        "\n",
        "Введение в высшую математику\n",
        "\n",
        "Практическое задание №6"
      ],
      "metadata": {
        "id": "h25JU8Vu2EE6"
      }
    },
    {
      "cell_type": "code",
      "execution_count": 47,
      "metadata": {
        "id": "PnCHxCNE1-eN"
      },
      "outputs": [],
      "source": [
        "import numpy as np\n",
        "import matplotlib.pyplot as plt"
      ]
    },
    {
      "cell_type": "markdown",
      "source": [
        "6.1"
      ],
      "metadata": {
        "id": "9ql1nuT-3POc"
      }
    },
    {
      "cell_type": "code",
      "source": [
        "A = np.array([[1, 2, 3], [4, 0, 6], [7, 8, 9]])\n",
        "det_a = np.linalg.det(A)\n",
        "if det_a != 0:\n",
        "  print(f\"Детерминант не равен нулю: {np.around(det_a, 2)}, решение есть\")\n",
        "else:\n",
        "  print(\"Детерминант равен нулю\")\n",
        "B = np.array([12, 2, 1])\n",
        "X = np.linalg.solve(A, B)\n",
        "print(X)"
      ],
      "metadata": {
        "colab": {
          "base_uri": "https://localhost:8080/"
        },
        "id": "HenHtSJ03GVF",
        "outputId": "c60e40a2-e86d-414c-83d5-4d1b63fd53ec"
      },
      "execution_count": 6,
      "outputs": [
        {
          "output_type": "stream",
          "name": "stdout",
          "text": [
            "Детерминант больше нуля: 60.0, решение есть\n",
            "[-9.2         0.9         6.46666667]\n"
          ]
        }
      ]
    },
    {
      "cell_type": "code",
      "source": [
        "A_exp = np.array([[1, 2, 3, 12], [4, 0, 6, 2], [7, 8, 9, 1]])\n",
        "print(np.linalg.matrix_rank(A), np.linalg.matrix_rank(A_exp))"
      ],
      "metadata": {
        "colab": {
          "base_uri": "https://localhost:8080/"
        },
        "id": "zm6ryu-H_j3g",
        "outputId": "a5e71ad5-1e54-4114-9d39-d163d39a9d5a"
      },
      "execution_count": 13,
      "outputs": [
        {
          "output_type": "stream",
          "name": "stdout",
          "text": [
            "3 3\n"
          ]
        }
      ]
    },
    {
      "cell_type": "code",
      "source": [
        "print(np.dot(A, X), B)"
      ],
      "metadata": {
        "colab": {
          "base_uri": "https://localhost:8080/"
        },
        "id": "h9FJ1Z9Y6vtI",
        "outputId": "c23c11cd-f579-404f-ca35-dda92e5769c4"
      },
      "execution_count": 7,
      "outputs": [
        {
          "output_type": "stream",
          "name": "stdout",
          "text": [
            "[12.  2.  1.] [12  2  1]\n"
          ]
        }
      ]
    },
    {
      "cell_type": "markdown",
      "source": [
        "6.2"
      ],
      "metadata": {
        "id": "DTc0inWH67HX"
      }
    },
    {
      "cell_type": "code",
      "source": [
        "C = np.array([[1, 2, -1], [3, -4, 0], [8, -5, 2], [2, 0, -5], [11 ,4, -7]])\n",
        "D = np.array([1, 7, 12, 7, 15])\n",
        "np.linalg.matrix_rank(A)"
      ],
      "metadata": {
        "colab": {
          "base_uri": "https://localhost:8080/"
        },
        "id": "IiyBy6yP68yH",
        "outputId": "f33d6011-5e99-4ed3-9809-9ac2dd9c22d5"
      },
      "execution_count": 9,
      "outputs": [
        {
          "output_type": "execute_result",
          "data": {
            "text/plain": [
              "3"
            ]
          },
          "metadata": {},
          "execution_count": 9
        }
      ]
    },
    {
      "cell_type": "code",
      "source": [
        "XYZ = np.linalg.lstsq(C, D)\n",
        "XYZ"
      ],
      "metadata": {
        "colab": {
          "base_uri": "https://localhost:8080/"
        },
        "id": "718ywpbi8a0d",
        "outputId": "d028af35-8e46-41b5-98a3-1deb098c9b4f"
      },
      "execution_count": 11,
      "outputs": [
        {
          "output_type": "stream",
          "name": "stderr",
          "text": [
            "/usr/local/lib/python3.7/dist-packages/ipykernel_launcher.py:1: FutureWarning: `rcond` parameter will change to the default of machine precision times ``max(M, N)`` where M and N are the input matrix dimensions.\n",
            "To use the future default and silence this warning we advise to pass `rcond=None`, to keep using the old, explicitly pass `rcond=-1`.\n",
            "  \"\"\"Entry point for launching an IPython kernel.\n"
          ]
        },
        {
          "output_type": "execute_result",
          "data": {
            "text/plain": [
              "(array([ 1.13919353, -0.90498444, -0.9009803 ]),\n",
              " array([0.71523211]),\n",
              " 3,\n",
              " array([15.2817306 ,  9.59852942,  3.65197794]))"
            ]
          },
          "metadata": {},
          "execution_count": 11
        }
      ]
    },
    {
      "cell_type": "markdown",
      "source": [
        "6.3"
      ],
      "metadata": {
        "id": "dXIKUiey-TgT"
      }
    },
    {
      "cell_type": "code",
      "source": [
        "E = np.array([[1, 2, 3], [4, 5, 6], [7, 8, 9]])\n",
        "det_e = np.round_(np.linalg.det(E))\n",
        "# print(det_e)\n",
        "if det_e != 0.0:\n",
        "  print(f\"Детерминант не равен нулю: {np.around(det_e, 2)}, решение есть\")\n",
        "else:\n",
        "  print(\"Детерминант равен нулю - решений бесконечно много\")\n",
        "F = np.array([12, 2, 1])\n",
        "E_exp = np.array([[1, 2, 3, 12], [4, 5, 6, 2], [7, 8, 9, 1]])\n",
        "print(\"Ранги матрицы Е и расширенной матрицы E_exp:\")\n",
        "print(np.linalg.matrix_rank(E), np.linalg.matrix_rank(E_exp))"
      ],
      "metadata": {
        "colab": {
          "base_uri": "https://localhost:8080/"
        },
        "id": "lLZIUHpM-SJ5",
        "outputId": "feb15c90-a501-46f1-8136-9775bb22eb66"
      },
      "execution_count": 31,
      "outputs": [
        {
          "output_type": "stream",
          "name": "stdout",
          "text": [
            "Детерминант равен нулю - решений бесконечно много\n",
            "Ранги матрицы Е и расширенной матрицы E_exp:\n",
            "2 3\n"
          ]
        }
      ]
    },
    {
      "cell_type": "code",
      "source": [
        "# предположим неизвестные равны [1, 0, 1]\n",
        "F_new = np.array([4, 10, 16])\n",
        "E_exp_new = np.array([[1, 2, 3, 4], [4, 5, 6, 10], [7, 8, 9, 16]])\n",
        "print(\"Ранги матрицы Е и расширенной матрицы E_exp:\")\n",
        "print(np.linalg.matrix_rank(E), np.linalg.matrix_rank(E_exp_new))\n",
        "# следущий код выдает ошибку, т.к. матрица сингулярная, вырожденная\n",
        "# X_new = np.linalg.solve(E, F_new)\n",
        "# X_new"
      ],
      "metadata": {
        "colab": {
          "base_uri": "https://localhost:8080/"
        },
        "id": "m5qIQepqcsDy",
        "outputId": "e3c748b6-5f9f-4d88-be56-9176b613e33d"
      },
      "execution_count": 32,
      "outputs": [
        {
          "output_type": "stream",
          "name": "stdout",
          "text": [
            "Ранги матрицы Е и расширенной матрицы E_exp:\n",
            "2 2\n"
          ]
        }
      ]
    },
    {
      "cell_type": "markdown",
      "source": [
        "6.4"
      ],
      "metadata": {
        "id": "Q0fYMuUPfWtI"
      }
    },
    {
      "cell_type": "code",
      "source": [
        "G = np.array([[1, 2, 3], [2, 16, 21], [4, 28, 73]])\n",
        "np.linalg.det(G)"
      ],
      "metadata": {
        "colab": {
          "base_uri": "https://localhost:8080/"
        },
        "id": "NGYPY1ixfYfD",
        "outputId": "3b10e7b0-908f-42a0-c6a1-fdce66fff2ac"
      },
      "execution_count": 33,
      "outputs": [
        {
          "output_type": "execute_result",
          "data": {
            "text/plain": [
              "432.00000000000017"
            ]
          },
          "metadata": {},
          "execution_count": 33
        }
      ]
    },
    {
      "cell_type": "code",
      "source": [
        "import scipy\n",
        "import scipy.linalg"
      ],
      "metadata": {
        "id": "GtN0hYDKf7c1"
      },
      "execution_count": 36,
      "outputs": []
    },
    {
      "cell_type": "code",
      "source": [
        "P, L, U = scipy.linalg.lu(G)\n",
        "print(P)\n",
        "print(L)\n",
        "print(U)"
      ],
      "metadata": {
        "colab": {
          "base_uri": "https://localhost:8080/"
        },
        "id": "d_y-EYZygNuO",
        "outputId": "68d9ad13-aaa1-4d25-8abc-45ad488ea878"
      },
      "execution_count": 37,
      "outputs": [
        {
          "output_type": "stream",
          "name": "stdout",
          "text": [
            "[[0. 1. 0.]\n",
            " [0. 0. 1.]\n",
            " [1. 0. 0.]]\n",
            "[[ 1.    0.    0.  ]\n",
            " [ 0.25  1.    0.  ]\n",
            " [ 0.5  -0.4   1.  ]]\n",
            "[[  4.    28.    73.  ]\n",
            " [  0.    -5.   -15.25]\n",
            " [  0.     0.   -21.6 ]]\n"
          ]
        }
      ]
    },
    {
      "cell_type": "code",
      "source": [
        "print(np.dot(L, U))\n",
        "print(np.dot(P.transpose(), G))"
      ],
      "metadata": {
        "colab": {
          "base_uri": "https://localhost:8080/"
        },
        "id": "F8IDL-9fiR5-",
        "outputId": "f9ac719c-91f8-428f-9356-aa6a925e00a0"
      },
      "execution_count": 40,
      "outputs": [
        {
          "output_type": "stream",
          "name": "stdout",
          "text": [
            "[[ 4. 28. 73.]\n",
            " [ 1.  2.  3.]\n",
            " [ 2. 16. 21.]]\n",
            "[[ 4. 28. 73.]\n",
            " [ 1.  2.  3.]\n",
            " [ 2. 16. 21.]]\n"
          ]
        }
      ]
    },
    {
      "cell_type": "markdown",
      "source": [
        "6.5"
      ],
      "metadata": {
        "id": "n1kSO5aVimgi"
      }
    },
    {
      "cell_type": "markdown",
      "source": [
        "X + 2Y - Z = 1;  \n",
        "8X - 5Y + 2Z = 12\n",
        "\n",
        "---\n",
        "**Z = X + 2Y - 1**;\n",
        "8X - 5Y + 2X + 4Y - 2 = 12; => 10X - Y = 14; => **Y = 10X - 14**\n",
        "\n",
        "---\n",
        "**X = X**;  \n",
        "**Y = 10X - 14**;  \n",
        "Z = X + 20X - 28 - 1; => **Z = 21X - 29** \n",
        "\n",
        "\n"
      ],
      "metadata": {
        "id": "W3yl8H9bjWn0"
      }
    },
    {
      "cell_type": "code",
      "source": [
        "H = np.array([[1, 2, -1], [8, -5, 2]])\n",
        "J = np.array([1, 12])\n",
        "np.linalg.lstsq(H, J)"
      ],
      "metadata": {
        "colab": {
          "base_uri": "https://localhost:8080/"
        },
        "id": "4F4Y9ALumOPT",
        "outputId": "c11ef93a-62e7-4162-9543-d429ad8bc0d2"
      },
      "execution_count": 41,
      "outputs": [
        {
          "output_type": "stream",
          "name": "stderr",
          "text": [
            "/usr/local/lib/python3.7/dist-packages/ipykernel_launcher.py:3: FutureWarning: `rcond` parameter will change to the default of machine precision times ``max(M, N)`` where M and N are the input matrix dimensions.\n",
            "To use the future default and silence this warning we advise to pass `rcond=None`, to keep using the old, explicitly pass `rcond=-1`.\n",
            "  This is separate from the ipykernel package so we can avoid doing imports until\n"
          ]
        },
        {
          "output_type": "execute_result",
          "data": {
            "text/plain": [
              "(array([ 1.38191882, -0.18081181,  0.0202952 ]),\n",
              " array([], dtype=float64),\n",
              " 2,\n",
              " array([9.65316119, 2.41173777]))"
            ]
          },
          "metadata": {},
          "execution_count": 41
        }
      ]
    },
    {
      "cell_type": "code",
      "source": [
        "def Q(x, y, z):\n",
        "  return(x**2 + y**2 + z**2)\n",
        "\n",
        "x = np.linspace(1.38, 1.384, 201)\n",
        "plt.plot(x, Q(x, 10 * x - 14, 21 * x - 29))\n",
        "plt.grid(True)\n",
        "plt.show()"
      ],
      "metadata": {
        "colab": {
          "base_uri": "https://localhost:8080/",
          "height": 265
        },
        "id": "qc-laq4Jpvi5",
        "outputId": "4cdb7bed-037b-4a78-d4e5-291f052035e8"
      },
      "execution_count": 61,
      "outputs": [
        {
          "output_type": "display_data",
          "data": {
            "text/plain": [
              "<Figure size 432x288 with 1 Axes>"
            ],
            "image/png": "[encoded data removed]"
          },
          "metadata": {
            "needs_background": "light"
          }
        }
      ]
    },
    {
      "cell_type": "code",
      "source": [
        "print(np.dot(H, [1.38191882, -0.18081181,  0.0202952]))"
      ],
      "metadata": {
        "colab": {
          "base_uri": "https://localhost:8080/"
        },
        "id": "zOo0oX_Grq9E",
        "outputId": "660cf521-067c-409f-d482-3924b4a08a3e"
      },
      "execution_count": 56,
      "outputs": [
        {
          "output_type": "stream",
          "name": "stdout",
          "text": [
            "[ 1.         12.00000001]\n"
          ]
        }
      ]
    },
    {
      "cell_type": "markdown",
      "source": [
        "6.6"
      ],
      "metadata": {
        "id": "1NquQgqIrzpc"
      }
    },
    {
      "cell_type": "code",
      "source": [
        "K = np.array([[1, 2, 3], [4, 5, 6], [7, 8, 9]])\n",
        "M = np.array([2, 5, 11])\n",
        "K_ext = np.array([[1, 2, 3, 2], [4, 5, 6, 5], [7, 8, 9, 11]])\n",
        "print(np.linalg.matrix_rank(K), np.linalg.matrix_rank(K_ext))"
      ],
      "metadata": {
        "colab": {
          "base_uri": "https://localhost:8080/"
        },
        "id": "3Nmyg2X-r0xG",
        "outputId": "d8ac08e2-34fc-4bcb-c1bd-99aa2b21766a"
      },
      "execution_count": 62,
      "outputs": [
        {
          "output_type": "stream",
          "name": "stdout",
          "text": [
            "2 3\n"
          ]
        }
      ]
    },
    {
      "cell_type": "code",
      "source": [
        "Q, R = np.linalg.qr(K)\n",
        "print(Q)\n",
        "print(R)\n",
        "print(np.dot(Q, R))"
      ],
      "metadata": {
        "colab": {
          "base_uri": "https://localhost:8080/"
        },
        "id": "-rcq67N_szZh",
        "outputId": "6eb0139f-29e3-4e2d-c1cc-475a877f4ad5"
      },
      "execution_count": 64,
      "outputs": [
        {
          "output_type": "stream",
          "name": "stdout",
          "text": [
            "[[-0.12309149  0.90453403  0.40824829]\n",
            " [-0.49236596  0.30151134 -0.81649658]\n",
            " [-0.86164044 -0.30151134  0.40824829]]\n",
            "[[-8.12403840e+00 -9.60113630e+00 -1.10782342e+01]\n",
            " [ 0.00000000e+00  9.04534034e-01  1.80906807e+00]\n",
            " [ 0.00000000e+00  0.00000000e+00 -8.88178420e-16]]\n",
            "[[1. 2. 3.]\n",
            " [4. 5. 6.]\n",
            " [7. 8. 9.]]\n"
          ]
        }
      ]
    },
    {
      "cell_type": "code",
      "source": [
        "R1 = R[:2, :2]\n",
        "R1"
      ],
      "metadata": {
        "colab": {
          "base_uri": "https://localhost:8080/"
        },
        "id": "NtucNy7AtaJg",
        "outputId": "72928f5d-1c4d-48a7-8e59-106ae6747003"
      },
      "execution_count": 65,
      "outputs": [
        {
          "output_type": "execute_result",
          "data": {
            "text/plain": [
              "array([[-8.1240384 , -9.6011363 ],\n",
              "       [ 0.        ,  0.90453403]])"
            ]
          },
          "metadata": {},
          "execution_count": 65
        }
      ]
    },
    {
      "cell_type": "code",
      "source": [
        "M1 = np.dot(np.transpose(Q), M)[:2]\n",
        "M1"
      ],
      "metadata": {
        "colab": {
          "base_uri": "https://localhost:8080/"
        },
        "id": "_XQwtSagtrEp",
        "outputId": "58cb98eb-32fd-4f34-f0ef-c2d1c3a9bc16"
      },
      "execution_count": 66,
      "outputs": [
        {
          "output_type": "execute_result",
          "data": {
            "text/plain": [
              "array([-1.21860576e+01,  3.55271368e-15])"
            ]
          },
          "metadata": {},
          "execution_count": 66
        }
      ]
    },
    {
      "cell_type": "code",
      "source": [
        "X1 = np.linalg.solve(R1, M1)\n",
        "print(X1)\n",
        "X = np.append(X1, 0)\n",
        "print(X)\n",
        "np.linalg.norm(X), np.linalg.norm(np.dot(K, X) - M)"
      ],
      "metadata": {
        "colab": {
          "base_uri": "https://localhost:8080/"
        },
        "id": "O8Of8283t8tl",
        "outputId": "675fa58e-bf57-49ad-c910-1d50320f34aa"
      },
      "execution_count": 67,
      "outputs": [
        {
          "output_type": "stream",
          "name": "stdout",
          "text": [
            "[1.50000000e+00 3.92767275e-15]\n",
            "[1.50000000e+00 3.92767275e-15 0.00000000e+00]\n"
          ]
        },
        {
          "output_type": "execute_result",
          "data": {
            "text/plain": [
              "(1.499999999999996, 1.224744871391589)"
            ]
          },
          "metadata": {},
          "execution_count": 67
        }
      ]
    },
    {
      "cell_type": "code",
      "source": [
        "np.linalg.lstsq(K, M)"
      ],
      "metadata": {
        "colab": {
          "base_uri": "https://localhost:8080/"
        },
        "id": "58Sci3f9ue2o",
        "outputId": "b703c265-b34c-411a-f052-244e67fcba8c"
      },
      "execution_count": 68,
      "outputs": [
        {
          "output_type": "stream",
          "name": "stderr",
          "text": [
            "/usr/local/lib/python3.7/dist-packages/ipykernel_launcher.py:1: FutureWarning: `rcond` parameter will change to the default of machine precision times ``max(M, N)`` where M and N are the input matrix dimensions.\n",
            "To use the future default and silence this warning we advise to pass `rcond=None`, to keep using the old, explicitly pass `rcond=-1`.\n",
            "  \"\"\"Entry point for launching an IPython kernel.\n"
          ]
        },
        {
          "output_type": "execute_result",
          "data": {
            "text/plain": [
              "(array([ 1.25,  0.5 , -0.25]),\n",
              " array([], dtype=float64),\n",
              " 2,\n",
              " array([1.68481034e+01, 1.06836951e+00, 4.41842475e-16]))"
            ]
          },
          "metadata": {},
          "execution_count": 68
        }
      ]
    },
    {
      "cell_type": "code",
      "source": [
        "X = [ 1.25,  0.5 , -0.25]\n",
        "np.linalg.norm(X), np.linalg.norm(np.dot(K, X) - M)"
      ],
      "metadata": {
        "colab": {
          "base_uri": "https://localhost:8080/"
        },
        "id": "sLCyqicKuu07",
        "outputId": "73a7d715-a3db-47ad-c063-041b1d8d645a"
      },
      "execution_count": 69,
      "outputs": [
        {
          "output_type": "execute_result",
          "data": {
            "text/plain": [
              "(1.3693063937629153, 1.224744871391589)"
            ]
          },
          "metadata": {},
          "execution_count": 69
        }
      ]
    }
  ]
}