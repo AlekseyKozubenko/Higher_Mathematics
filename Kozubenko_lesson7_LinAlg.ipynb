{
  "nbformat": 4,
  "nbformat_minor": 0,
  "metadata": {
    "colab": {
      "provenance": []
    },
    "kernelspec": {
      "name": "python3",
      "display_name": "Python 3"
    },
    "language_info": {
      "name": "python"
    }
  },
  "cells": [
    {
      "cell_type": "code",
      "execution_count": 1,
      "metadata": {
        "id": "B08y99j36sE9"
      },
      "outputs": [],
      "source": [
        "import numpy as np"
      ]
    },
    {
      "cell_type": "code",
      "source": [
        "e = np.identity(5)\n",
        "e5 = 5 * e\n",
        "a = np.linalg.det(e5)\n",
        "print(np.around(a))\n",
        "f = np.linalg.inv(e5)\n",
        "f"
      ],
      "metadata": {
        "colab": {
          "base_uri": "https://localhost:8080/"
        },
        "id": "x3xX_R667m7S",
        "outputId": "3c159ae4-7486-4c26-8508-064fb886aa1c"
      },
      "execution_count": 38,
      "outputs": [
        {
          "output_type": "stream",
          "name": "stdout",
          "text": [
            "3125.0\n"
          ]
        },
        {
          "output_type": "execute_result",
          "data": {
            "text/plain": [
              "array([[0.2, 0. , 0. , 0. , 0. ],\n",
              "       [0. , 0.2, 0. , 0. , 0. ],\n",
              "       [0. , 0. , 0.2, 0. , 0. ],\n",
              "       [0. , 0. , 0. , 0.2, 0. ],\n",
              "       [0. , 0. , 0. , 0. , 0.2]])"
            ]
          },
          "metadata": {},
          "execution_count": 38
        }
      ]
    },
    {
      "cell_type": "code",
      "source": [
        "A = [[1,2,3],[4,0,6],[7,8,9]]\n",
        "print(A)\n",
        "np.around(np.linalg.det(A), 2)"
      ],
      "metadata": {
        "colab": {
          "base_uri": "https://localhost:8080/"
        },
        "id": "dT9gcWsOSNpa",
        "outputId": "443b0d3a-36c0-43ad-9e44-4109130d1689"
      },
      "execution_count": 36,
      "outputs": [
        {
          "output_type": "stream",
          "name": "stdout",
          "text": [
            "[[1, 2, 3], [4, 0, 6], [7, 8, 9]]\n"
          ]
        },
        {
          "output_type": "execute_result",
          "data": {
            "text/plain": [
              "60.0"
            ]
          },
          "metadata": {},
          "execution_count": 36
        }
      ]
    },
    {
      "cell_type": "code",
      "source": [
        "B = np.linalg.inv(A)\n",
        "B"
      ],
      "metadata": {
        "colab": {
          "base_uri": "https://localhost:8080/"
        },
        "id": "mT7FvDGNWZmH",
        "outputId": "8758f089-c11a-4106-ba2a-7cf3df0668dc"
      },
      "execution_count": 21,
      "outputs": [
        {
          "output_type": "execute_result",
          "data": {
            "text/plain": [
              "array([[-0.8       ,  0.1       ,  0.2       ],\n",
              "       [ 0.1       , -0.2       ,  0.1       ],\n",
              "       [ 0.53333333,  0.1       , -0.13333333]])"
            ]
          },
          "metadata": {},
          "execution_count": 21
        }
      ]
    },
    {
      "cell_type": "code",
      "source": [
        "a = np.array([1, 5, 7, 9])\n",
        "b = 3 * a\n",
        "c = a - b\n",
        "d = 0 * a\n",
        "A = np.array([a, b, c, d])\n",
        "A"
      ],
      "metadata": {
        "colab": {
          "base_uri": "https://localhost:8080/"
        },
        "id": "qQU4JJ-NatWs",
        "outputId": "ea2e0cbf-32d3-4e89-9cd6-ac800abee524"
      },
      "execution_count": 27,
      "outputs": [
        {
          "output_type": "execute_result",
          "data": {
            "text/plain": [
              "array([[  1,   5,   7,   9],\n",
              "       [  3,  15,  21,  27],\n",
              "       [ -2, -10, -14, -18],\n",
              "       [  0,   0,   0,   0]])"
            ]
          },
          "metadata": {},
          "execution_count": 27
        }
      ]
    },
    {
      "cell_type": "code",
      "source": [
        "np.linalg.matrix_rank(A)"
      ],
      "metadata": {
        "colab": {
          "base_uri": "https://localhost:8080/"
        },
        "id": "fq1iyWQ9Yr_9",
        "outputId": "d5d482da-05ae-4669-c4f2-95bc3a149bef"
      },
      "execution_count": 28,
      "outputs": [
        {
          "output_type": "execute_result",
          "data": {
            "text/plain": [
              "1"
            ]
          },
          "metadata": {},
          "execution_count": 28
        }
      ]
    },
    {
      "cell_type": "code",
      "source": [
        "a = np.array([1, 5])\n",
        "b = np.array([2, 8])\n",
        "np.dot(a, b)"
      ],
      "metadata": {
        "colab": {
          "base_uri": "https://localhost:8080/"
        },
        "id": "xOoWRVfJoVV9",
        "outputId": "10fa3767-c796-41b8-ea7b-e169f6ccea14"
      },
      "execution_count": 31,
      "outputs": [
        {
          "output_type": "execute_result",
          "data": {
            "text/plain": [
              "42"
            ]
          },
          "metadata": {},
          "execution_count": 31
        }
      ]
    },
    {
      "cell_type": "code",
      "source": [
        "a = np.array([1, 5, 0])\n",
        "b = np.array([2, 8, 7])\n",
        "c = np.array([7, 1.5, 3])\n",
        "P = np.array([a,b,c])\n",
        "p = np.linalg.det(P)\n",
        "p"
      ],
      "metadata": {
        "colab": {
          "base_uri": "https://localhost:8080/"
        },
        "id": "ZjbQ3l2_qEhT",
        "outputId": "8d07e388-cafc-47f7-aa02-7802adc6359c"
      },
      "execution_count": 35,
      "outputs": [
        {
          "output_type": "execute_result",
          "data": {
            "text/plain": [
              "228.50000000000009"
            ]
          },
          "metadata": {},
          "execution_count": 35
        }
      ]
    }
  ]
}