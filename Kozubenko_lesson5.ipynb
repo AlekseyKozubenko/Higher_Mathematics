{
 "cells": [
  {
   "cell_type": "markdown",
   "id": "118b68d1",
   "metadata": {},
   "source": [
    "# Козубенко. Практические задания к уроку 5. Тема “Элементы теории вероятностей”\n"
   ]
  },
  {
   "cell_type": "markdown",
   "id": "c761061d",
   "metadata": {},
   "source": [
    "# 1. Напишите код, моделирующий выпадение поля в рулетке (с учетом поля зеро)."
   ]
  },
  {
   "cell_type": "code",
   "execution_count": 282,
   "id": "f6abd315",
   "metadata": {
    "scrolled": true
   },
   "outputs": [
    {
     "name": "stdout",
     "output_type": "stream",
     "text": [
      "Выпало 15 - Черное\n"
     ]
    }
   ],
   "source": [
    "import numpy as np\n",
    "\n",
    "def roulette():\n",
    "    n = np.random.randint(0, 37)\n",
    "    c = \"\"\n",
    "    if n == 0:\n",
    "        c = \"Зеро\"\n",
    "    elif n in [32, 19, 21, 25, 34, 27, 36, 30, 23, 5, 16, 1, 14, 9, 18, 7, 12, 3]:\n",
    "        c = \"Красное\"\n",
    "    else:\n",
    "        c = \"Черное\"\n",
    "    return [n, c]\n",
    "\n",
    "result = roulette()\n",
    "print((f'Выпало {result[0]} - {result[1]}'))"
   ]
  },
  {
   "cell_type": "markdown",
   "id": "2da508f8",
   "metadata": {},
   "source": [
    "# 2.1 Напишите код, проверяющий любую из теорем сложения или умножения вероятности на примере рулетки или подбрасывания монетки."
   ]
  },
  {
   "cell_type": "markdown",
   "id": "03da62c5",
   "metadata": {},
   "source": [
    "### Вероятность выпадение \"0\" - 1/37\n",
    "### Вероятность выпадения \"Красного\" - 18/37\n",
    "### Сумма вероятностей выпадения или \"0\" или \"Красное\" = 1/37 + 18/37 = 19/37 (~ 0.5135135)"
   ]
  },
  {
   "cell_type": "code",
   "execution_count": 283,
   "id": "b6f84123",
   "metadata": {},
   "outputs": [
    {
     "name": "stdout",
     "output_type": "stream",
     "text": [
      "Эталон суммы вероятностей- 0,5135135; сумма вероятностей при 100000 попыток - 0.5142000\n"
     ]
    }
   ],
   "source": [
    "result = 0\n",
    "N = 100000\n",
    "for i in range(N):\n",
    "    attempt = roulette()\n",
    "#     print(attempt[1])\n",
    "    if attempt[1] in [\"Зеро\", \"Красное\"]:\n",
    "        result += 1\n",
    "#     print(result)\n",
    "print(f'Эталон суммы вероятностей- 0,5135135; сумма вероятностей при {N} попыток - {result/N:.7f}')"
   ]
  },
  {
   "cell_type": "markdown",
   "id": "288388c7",
   "metadata": {},
   "source": [
    "### При большом количестве повторений результат стремится к расчетному (при 10 млн повторений результат очень близок, но считает долго)"
   ]
  },
  {
   "cell_type": "markdown",
   "id": "52a01a5a",
   "metadata": {},
   "source": [
    "# 2.2 Сгенерируйте десять выборок случайных чисел х0, …, х9. И постройте гистограмму распределения случайной суммы  +х0+ …+ х 9."
   ]
  },
  {
   "cell_type": "code",
   "execution_count": 284,
   "id": "6ac52605",
   "metadata": {},
   "outputs": [],
   "source": [
    "# Генерирую 10 выборок с набором из N случайных чисел: x0 - x9\n",
    "# С помощью суммирования получаю список xN из N элементов, где xN[i] = x0[i] + ... + x9[i]\n",
    "# Строю гистограмму распределения"
   ]
  },
  {
   "cell_type": "code",
   "execution_count": 285,
   "id": "71fbd25c",
   "metadata": {
    "scrolled": true
   },
   "outputs": [],
   "source": [
    "N = 1000\n",
    "my_list = []\n",
    "x0 = np.random.rand(N)\n",
    "x1 = np.random.rand(N)\n",
    "x2 = np.random.rand(N)\n",
    "x3 = np.random.rand(N)\n",
    "x4 = np.random.rand(N)\n",
    "x5 = np.random.rand(N)\n",
    "x6 = np.random.rand(N)\n",
    "x7 = np.random.rand(N)\n",
    "x8 = np.random.rand(N)\n",
    "x9 = np.random.rand(N)\n",
    "xN = x0 + x1 + x2 + x3 + x4 + x5 + x6 + x7 + x8 + x9\n",
    "# print(xN)"
   ]
  },
  {
   "cell_type": "code",
   "execution_count": 286,
   "id": "b6a25375",
   "metadata": {
    "scrolled": true
   },
   "outputs": [
    {
     "data": {
      "image/png": "[encoded data removed]",
      "text/plain": [
       "<Figure size 432x288 with 1 Axes>"
      ]
     },
     "metadata": {
      "needs_background": "light"
     },
     "output_type": "display_data"
    }
   ],
   "source": [
    "import matplotlib.pyplot as plt\n",
    "%matplotlib inline\n",
    "\n",
    "num_bins = 20\n",
    "n, bins, patches = plt.hist(xN, num_bins)"
   ]
  },
  {
   "cell_type": "markdown",
   "id": "5cac0c5f",
   "metadata": {},
   "source": [
    "# 3.1 Дополните код Монте-Карло последовательности независимых испытаний расчетом соответствующих вероятностей (через биномиальное распределение) и сравните результаты."
   ]
  },
  {
   "cell_type": "code",
   "execution_count": 287,
   "id": "70a6792f",
   "metadata": {},
   "outputs": [
    {
     "name": "stdout",
     "output_type": "stream",
     "text": [
      "375619 1000000 0.375619\n"
     ]
    }
   ],
   "source": [
    "k, n = 0, 1000000\n",
    "a = np.random.randint(0, 2, n)\n",
    "b = np.random.randint(0, 2, n)\n",
    "c = np.random.randint(0, 2, n)\n",
    "d = np.random.randint(0, 2, n)\n",
    "x = a + b + c + d\n",
    "# Оценить вероятность выпадения 2-х орлов и 2-х решек при проведении 4-х испытаний\n",
    "for i in range(0, n):\n",
    "    if x[i] == 2:\n",
    "        k = k + 1\n",
    "print(k, n, k/n)"
   ]
  },
  {
   "cell_type": "code",
   "execution_count": 288,
   "id": "ee5f15f8",
   "metadata": {},
   "outputs": [
    {
     "name": "stdout",
     "output_type": "stream",
     "text": [
      "0.375\n"
     ]
    }
   ],
   "source": [
    "# Рассчитаем с помощью формулы биноминального распределения вероятность выпадения 2-х орлов и 2-х решек при проведении 4-х испытаний\n",
    "# P = C (из n по k) * 1/2**n = (1/2**n) * (n! / (k! * (n-k)!))\n",
    "k, n = 2, 4\n",
    "p = (1 / 2**n) * (np.math.factorial(n) / (np.math.factorial(k) * np.math.factorial(n-k)))\n",
    "print(p)"
   ]
  },
  {
   "cell_type": "markdown",
   "id": "17ab53c4",
   "metadata": {},
   "source": [
    "# 3.2 Повторите расчеты биномиальных коэффициентов и вероятностей k успехов в последовательности из n независимых испытаний, взяв другие значения n и k."
   ]
  },
  {
   "cell_type": "code",
   "execution_count": 289,
   "id": "23de8e37",
   "metadata": {
    "scrolled": true
   },
   "outputs": [
    {
     "name": "stdout",
     "output_type": "stream",
     "text": [
      "164660 1000000 0.16466\n"
     ]
    }
   ],
   "source": [
    "k, n = 0, 1000000\n",
    "a = np.random.randint(0, 2, n)\n",
    "b = np.random.randint(0, 2, n)\n",
    "c = np.random.randint(0, 2, n)\n",
    "d = np.random.randint(0, 2, n)\n",
    "e = np.random.randint(0, 2, n)\n",
    "f = np.random.randint(0, 2, n)\n",
    "g = np.random.randint(0, 2, n)\n",
    "x = a + b + c + d + e + f + g\n",
    "# Оценить вероятность выпадения 5-х орлов и 2-х решек при проведении 7-х испытаний\n",
    "for i in range(0, n):\n",
    "    if x[i] == 5:\n",
    "        k = k + 1\n",
    "print(k, n, k/n)"
   ]
  },
  {
   "cell_type": "code",
   "execution_count": 290,
   "id": "bac673df",
   "metadata": {
    "scrolled": true
   },
   "outputs": [
    {
     "name": "stdout",
     "output_type": "stream",
     "text": [
      "0.1640625\n"
     ]
    }
   ],
   "source": [
    "# Рассчитаем с помощью формулы биноминального распределения вероятность выпадения 5-х орлов и 2-х решек при проведении 4-х испытаний\n",
    "# P = C (из n по k) * 1/2**n = (1/2**n) * (n! / (k! * (n-k)!))\n",
    "k, n = 5, 7\n",
    "p = (1 / 2**n) * (np.math.factorial(n) / (np.math.factorial(k) * np.math.factorial(n-k)))\n",
    "print(p)"
   ]
  },
  {
   "cell_type": "markdown",
   "id": "cb15951d",
   "metadata": {},
   "source": [
    "# 4 Из урока по комбинаторике повторите расчеты, сгенерировав возможные варианты перестановок для других значений n и k"
   ]
  },
  {
   "cell_type": "code",
   "execution_count": 291,
   "id": "f434e18d",
   "metadata": {},
   "outputs": [],
   "source": [
    "import itertools"
   ]
  },
  {
   "cell_type": "code",
   "execution_count": 292,
   "id": "2df0abb8",
   "metadata": {
    "scrolled": true
   },
   "outputs": [
    {
     "name": "stdout",
     "output_type": "stream",
     "text": [
      "AAA\n",
      "AAB\n",
      "ABA\n",
      "ABB\n",
      "BAA\n",
      "BAB\n",
      "BBA\n",
      "BBB\n",
      "Вариантов сочетаний - 8\n"
     ]
    }
   ],
   "source": [
    "j = 0\n",
    "for i in itertools.product('AB', repeat=3):\n",
    "    j += 1\n",
    "    print(''.join(i))\n",
    "print(f'Вариантов сочетаний - {j}')"
   ]
  },
  {
   "cell_type": "code",
   "execution_count": 293,
   "id": "9c9126b2",
   "metadata": {
    "scrolled": true
   },
   "outputs": [
    {
     "name": "stdout",
     "output_type": "stream",
     "text": [
      "ABC\n",
      "ACB\n",
      "BAC\n",
      "BCA\n",
      "CAB\n",
      "CBA\n",
      "Вариантов перестановок - 6\n"
     ]
    }
   ],
   "source": [
    "j = 0\n",
    "for i in itertools.permutations('ABC', 3):\n",
    "    j += 1\n",
    "    print(''.join(str(x) for x in i))\n",
    "print(f'Вариантов перестановок - {j}')"
   ]
  },
  {
   "cell_type": "code",
   "execution_count": 294,
   "id": "f15ed875",
   "metadata": {
    "scrolled": true
   },
   "outputs": [
    {
     "name": "stdout",
     "output_type": "stream",
     "text": [
      "ABC\n",
      "ABD\n",
      "ACD\n",
      "BCD\n",
      "Вариантов сочетаний - 4\n"
     ]
    }
   ],
   "source": [
    "j = 0\n",
    "for i in itertools.combinations('ABCD', 3):\n",
    "    j += 1\n",
    "    print(''.join(i))\n",
    "print(f'Вариантов сочетаний - {j}')"
   ]
  },
  {
   "cell_type": "markdown",
   "id": "b7e926f6",
   "metadata": {},
   "source": [
    "# 5 Дополните код расчетом коэффициента корреляции x и y по формуле\n",
    "R = sum((xi - xm)(yi - ym))/sqr(sum((xi - xm)^2) * (sum((yi - ym)^2)))"
   ]
  },
  {
   "cell_type": "code",
   "execution_count": 295,
   "id": "bf4a1d97",
   "metadata": {},
   "outputs": [
    {
     "name": "stdout",
     "output_type": "stream",
     "text": [
      "Коэффициент корреляции с помощью функции в numpy:\n",
      "0.9743069465202564\n",
      "Коэффициент корреляции по общей формуле:\n",
      "0.9743069465202558\n"
     ]
    },
    {
     "data": {
      "image/png": "[encoded data removed]",
      "text/plain": [
       "<Figure size 432x288 with 1 Axes>"
      ]
     },
     "metadata": {
      "needs_background": "light"
     },
     "output_type": "display_data"
    }
   ],
   "source": [
    "np.warnings.filterwarnings('ignore')\n",
    "n = 100\n",
    "r = 0.8\n",
    "x = np.random.rand(n)\n",
    "y = r*x + (1 - r)*np.random.rand(n)\n",
    "plt.plot(x, y, 'o')\n",
    "plt.xlabel('x')\n",
    "plt.ylabel('y')\n",
    "plt.grid(True)\n",
    "\n",
    "c = np.corrcoef(x, y)\n",
    "print('Коэффициент корреляции с помощью функции в numpy:')\n",
    "print(c[0][1])\n",
    "# найдем срдение значения x, y\n",
    "xm = sum(x)/n\n",
    "ym = sum(y)/n\n",
    "c2 = (sum((x - xm) * (y - ym))) / (np.sqrt(sum((x - xm)**2) * sum((y - ym)**2)))\n",
    "print('Коэффициент корреляции по общей формуле:')\n",
    "print(c2)\n",
    "\n",
    "\n",
    "a = (np.sum(x)*np.sum(y) - n*np.sum(x*y))/(np.sum(x)*np.sum(x) - n*np.sum(x*x))\n",
    "b = (np.sum(y) - a*np.sum(x))/n\n",
    "\n",
    "A = np.vstack([x, np.ones(len(x))]).T\n",
    "a1, b1 = np.linalg.lstsq(A, y)[0]\n",
    "# print(a, b)\n",
    "# print(a1, b1)\n",
    "\n",
    "xm = sum(x)/n\n",
    "ym = sum(y)/n\n",
    "\n",
    "plt.plot([0, 1], [b, a + b])\n",
    "plt.show()"
   ]
  },
  {
   "cell_type": "markdown",
   "id": "397abb5e",
   "metadata": {},
   "source": [
    "# ЧЕРНОВИК"
   ]
  },
  {
   "cell_type": "code",
   "execution_count": 296,
   "id": "dc3ea037",
   "metadata": {},
   "outputs": [
    {
     "name": "stdout",
     "output_type": "stream",
     "text": [
      "[[1.         0.23569624]\n",
      " [0.23569624 1.        ]]\n"
     ]
    },
    {
     "data": {
      "text/plain": [
       "0.23569624046760634"
      ]
     },
     "execution_count": 296,
     "metadata": {},
     "output_type": "execute_result"
    }
   ],
   "source": [
    "n = 10\n",
    "x = np.random.rand(n)\n",
    "y = np.random.rand(n)\n",
    "print(np.corrcoef(x, y))\n",
    "\n",
    "xm = sum(x)/n\n",
    "# print(xm)\n",
    "ym = sum(y)/n\n",
    "# print(ym)\n",
    "x1 = x-xm\n",
    "y1 = y - ym\n",
    "# print(x1)\n",
    "# print(y1)\n",
    "res = 0\n",
    "for i in range(len(x1)):\n",
    "    res += x1[i] * y1[i]\n",
    "# print(res)\n",
    "# print(sum(x1 * y1))\n",
    "a = (sum((x - xm) * (y - ym)))\n",
    "b = (np.sqrt(sum((x - xm)**2) * sum((y - ym)**2)))\n",
    "c = a / b\n",
    "c"
   ]
  }
 ],
 "metadata": {
  "kernelspec": {
   "display_name": "Python 3 (ipykernel)",
   "language": "python",
   "name": "python3"
  },
  "language_info": {
   "codemirror_mode": {
    "name": "ipython",
    "version": 3
   },
   "file_extension": ".py",
   "mimetype": "text/x-python",
   "name": "python",
   "nbconvert_exporter": "python",
   "pygments_lexer": "ipython3",
   "version": "3.9.12"
  }
 },
 "nbformat": 4,
 "nbformat_minor": 5
}
